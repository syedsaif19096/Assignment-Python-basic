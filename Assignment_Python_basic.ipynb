{
  "nbformat": 4,
  "nbformat_minor": 0,
  "metadata": {
    "colab": {
      "provenance": []
    },
    "kernelspec": {
      "name": "python3",
      "display_name": "Python 3"
    },
    "language_info": {
      "name": "python"
    }
  },
  "cells": [
    {
      "cell_type": "markdown",
      "source": [
        "# Python Basic Questions assignment"
      ],
      "metadata": {
        "id": "mAixGc0Q5uQo"
      }
    },
    {
      "cell_type": "markdown",
      "source": [
        "# **BASIC QUESTIONS**\n",
        "\n",
        "Q1. What is python, and why is it popular?\n",
        "  - Python is high-level, interpreted programming language known for its simplicity and readability like simple english language,Released by Guido van Rossum in 1991, Python has evolved into a versatile, general-purpose language used in various applications, from web development to artificial intelligence.\n",
        "  \n",
        "  - Python is so popular in software development feild because its  have some reseason like it is easy to learn, versatile, and backed by a large, supportive community. Its simple, readable syntax and vast ecosystem of libraries and frameworks enable rapid development for web applications, data science, machine learning, automation.\n",
        "\n",
        "Q2. What is an interpreter in Python?\n",
        "  - In Python interpreter is nothing but a translator, which program that directly executes Python code. Unlike compiled languages, where the entire code is translated into machine code before execution, an interpreter processes the code line by line at runtime.\n",
        "\n",
        "Q3. What are pre-defined keywords in Python?\n",
        "  - Keywords in Python are predefined reserved words with special meanings so the interpreter can understand them. They perform specific tasks in Python programming and are a part of its syntax.\n",
        "\n",
        "Q4. Can keywords be used as variable names?\n",
        " - Python has a set of keywords that are reserved words that cannot be used as variable names, function names, or any other identifiers.\n",
        "\n",
        "Q5. what is mutability in python?\n",
        " - Mutability in Python refers to the ability of an object to be changed or modified after it has been created.\n",
        "\n",
        "Q6. Why are lists mutable, but tuples are immutable?\n",
        " - Lists are mutable because their class implementation includes operations that allow for adding, removing, and changing elements after creation. Conversely, tuples are immutable because their implementation does not provide such mutator methods, meaning they are fixed and cannot be changed once defined.\n",
        "\n",
        "Q7. What is the difference between “==” and “is” operators in Python?\n",
        " - In Python, the '==' operator and the 'is' operator are both used for comparison but for different purpose\n",
        " - '=='equality operator, This operator compares the values of two objects, If the values are identical, == returns True; otherwise, it returns False.\n",
        " - 'is'  This operator checks for object identity. It determines whether two variables refer to the exact same object in memory, 'is'  returns True only if both variables are references to the identical object; otherwise, it returns False.\n",
        "\n",
        "Q8. What are logical operators in Python?\n",
        " - 'and' , 'or' , and 'not' are 3 logical operator in pyhton which is used to  combine conditional statements and perform logical operations on Boolean values (True or False).\n",
        "\n",
        "Q9. What is type casting in Python?\n",
        " - Type Casting is the method to convert the Python variable datatype into a certain data type in order to perform the required operation by users,There can be two types of Type Casting in Python:\n",
        "\n",
        "      1.Implicit Type Conversion\n",
        "      2.Explicit Type Conversion\n",
        "\n",
        "Q10. What is the difference between implicit and explicit type casting?\n",
        " - Implicit conversion is done automatically by the compiler when you assign a value of one type to another.\n",
        " - Explicit type casting, also known as type conversion or type coercion, occurs when the programmer explicitly converts a value from one data type to another.\n",
        "  \n",
        "Q11. What is the purpose of conditional statements in Python?\n",
        " - The purpose of conditional statements in Python is to control the flow of a program's execution based on specific conditions.\n",
        " They enable the program to make decisions and execute different blocks of code depending on whether a given condition evaluates to True or False.\n",
        "\n",
        "Q12. How does the elif statement work?\n",
        " - In Python, the “else if” statement, often called “elif,”  an if statement is used to evaluate a specific condition and execute a code block if that condition is true. The else statement is paired with the if statement to execute a separate block of code if the condition is false. Thus, an if-else statement provides two possible outcomes based on the boolean value of the condition.\n",
        "\n",
        "Q13. What is the difference between for and while loops?\n",
        "  - In FOR loop, runs a fixed number of times, usually when you already know how many times you want the code to repeat\n",
        "  - WHILE loop runs until a condition becomes false, which is useful when you don’t know in advance how many times it should run.\n",
        "  - FOR Loops are used for iterating over a sequence like lists, tuples, strings and ranges.\n",
        "  - WHILE Loop is used to execute a block of statements repeatedly until a given condition is satisfied. When the condition becomes false, the line immediately after the loop in the program is executed.\n",
        "\n",
        "Q14. Describe a scenario where a while loop is more suitable than a for loop.\n",
        " - A WHILE loop is more suitable than a FOR loop in scenarios where the number of iterations is not known in advance and the loop needs to continue until a specific condition is met.\n",
        "\n",
        "\n",
        " # PRACTICAL QUESTIONS\n",
        "\n",
        "Q1. Write a Python program to print \"Hello, World!\".\n",
        "\n",
        "\n"
      ],
      "metadata": {
        "id": "AYjJoxBg6EJS"
      }
    },
    {
      "cell_type": "code",
      "source": [
        "a = \"Hello, World!\"\n",
        "print(a)"
      ],
      "metadata": {
        "colab": {
          "base_uri": "https://localhost:8080/"
        },
        "id": "jDBOMVWWj6U6",
        "outputId": "a48731c9-e4e9-460d-ba99-c7e39eda743d"
      },
      "execution_count": 4,
      "outputs": [
        {
          "output_type": "stream",
          "name": "stdout",
          "text": [
            "Hello, World!\n"
          ]
        }
      ]
    },
    {
      "cell_type": "markdown",
      "source": [
        "Q2. Write a Python program that displays your name and age."
      ],
      "metadata": {
        "id": "SRy9ZGiFkQ35"
      }
    },
    {
      "cell_type": "code",
      "source": [
        "name = input(\"Enter yout name: \")\n",
        "age = int(input(\"Enter your age: \"))\n",
        "print(\"Name:\", name)\n",
        "print(\"Age:\", age)"
      ],
      "metadata": {
        "colab": {
          "base_uri": "https://localhost:8080/"
        },
        "id": "LQ9rFcTVkePs",
        "outputId": "a9b23806-d2c7-400d-b5c7-34990768e5fe"
      },
      "execution_count": 5,
      "outputs": [
        {
          "output_type": "stream",
          "name": "stdout",
          "text": [
            "Enter yout name: Syed\n",
            "Enter your age: 31\n",
            "Name: Syed\n",
            "Age: 31\n"
          ]
        }
      ]
    },
    {
      "cell_type": "code",
      "source": [],
      "metadata": {
        "id": "4sux8s2Yl0Sq"
      },
      "execution_count": null,
      "outputs": []
    },
    {
      "cell_type": "markdown",
      "source": [
        "Q3. Write code to print all the pre-defined keywords in Python using the keyword library."
      ],
      "metadata": {
        "id": "mPhr4IFfl7r5"
      }
    },
    {
      "cell_type": "code",
      "source": [
        "# Get the list of all Python keywords\n",
        "keywords_list = keyword.kwlist\n",
        "\n",
        "# Print the keywords\n",
        "print(\"Python Keywords:\")\n",
        "for kw in keywords_list:\n",
        "  print(kw)\n"
      ],
      "metadata": {
        "colab": {
          "base_uri": "https://localhost:8080/"
        },
        "id": "tkW1emYXnf4D",
        "outputId": "74b7265c-61e2-41fa-ddd7-1fe4efe855a2"
      },
      "execution_count": 7,
      "outputs": [
        {
          "output_type": "stream",
          "name": "stdout",
          "text": [
            "Python Keywords:\n",
            "False\n",
            "None\n",
            "True\n",
            "and\n",
            "as\n",
            "assert\n",
            "async\n",
            "await\n",
            "break\n",
            "class\n",
            "continue\n",
            "def\n",
            "del\n",
            "elif\n",
            "else\n",
            "except\n",
            "finally\n",
            "for\n",
            "from\n",
            "global\n",
            "if\n",
            "import\n",
            "in\n",
            "is\n",
            "lambda\n",
            "nonlocal\n",
            "not\n",
            "or\n",
            "pass\n",
            "raise\n",
            "return\n",
            "try\n",
            "while\n",
            "with\n",
            "yield\n"
          ]
        }
      ]
    },
    {
      "cell_type": "markdown",
      "source": [
        "Q4. Write a program that checks if a given word is a Python keyword."
      ],
      "metadata": {
        "id": "MLk6NlQ4oKDL"
      }
    },
    {
      "cell_type": "code",
      "source": [
        "# Ask the user for a word\n",
        "word = input(\"Enter a word to check: \")\n",
        "\n",
        "# Check if it's a Python keyword\n",
        "if keyword.iskeyword(word):\n",
        "    print(f\"'{word}' is a Python keyword.\")\n",
        "else:\n",
        "    print(f\"'{word}' is NOT a Python keyword.\")\n"
      ],
      "metadata": {
        "colab": {
          "base_uri": "https://localhost:8080/"
        },
        "id": "hurgox0LoUu_",
        "outputId": "12aa38ed-3bc1-49d6-d57b-08d60ef87ce8"
      },
      "execution_count": 9,
      "outputs": [
        {
          "output_type": "stream",
          "name": "stdout",
          "text": [
            "Enter a word to check: with\n",
            "'with' is a Python keyword.\n"
          ]
        }
      ]
    },
    {
      "cell_type": "markdown",
      "source": [
        "Q5. Create a list and tuple in Python, and demonstrate how attempting to change an element works differently\n",
        "for each."
      ],
      "metadata": {
        "id": "-6uFwjBko0d4"
      }
    },
    {
      "cell_type": "code",
      "source": [
        "# Creating a list and a tuple\n",
        "my_list = [10, 20, 30]\n",
        "my_tuple = (10, 20, 30)\n",
        "\n",
        "# Changing an element in the list\n",
        "print(\"Original list:\", my_list)\n",
        "my_list[1] = 99  # This works because lists are mutable\n",
        "print(\"Modified list:\", my_list)\n",
        "\n",
        "# Attempting to change an element in the tuple\n",
        "print(\"Original tuple:\", my_tuple)\n",
        "try:\n",
        "    my_tuple[1] = 99  # This will raise an error because tuples are immutable\n",
        "except TypeError as e:\n",
        "    print(\"Error when trying to modify tuple:\", e)"
      ],
      "metadata": {
        "colab": {
          "base_uri": "https://localhost:8080/"
        },
        "id": "UDymbxd2pdv-",
        "outputId": "e76ce5c9-65ba-4e0a-e113-b099ebb7ec64"
      },
      "execution_count": 10,
      "outputs": [
        {
          "output_type": "stream",
          "name": "stdout",
          "text": [
            "Original list: [10, 20, 30]\n",
            "Modified list: [10, 99, 30]\n",
            "Original tuple: (10, 20, 30)\n",
            "Error when trying to modify tuple: 'tuple' object does not support item assignment\n"
          ]
        }
      ]
    },
    {
      "cell_type": "markdown",
      "source": [
        "Q6.  Write a function to demonstrate the behavior of mutable and immutable arguments."
      ],
      "metadata": {
        "id": "Ejc41i9Np_1C"
      }
    },
    {
      "cell_type": "code",
      "source": [
        "def modify_arguments(a_number, a_list):\n",
        "    print(\"Inside function before modification:\")\n",
        "    print(\"a_number =\", a_number)\n",
        "    print(\"a_list =\", a_list)\n",
        "\n",
        "    # Try modifying both\n",
        "    a_number += 10         # Immutable: integers can't be changed in place\n",
        "    a_list.append(100)     # Mutable: lists can be changed in place\n",
        "\n",
        "    print(\"Inside function after modification:\")\n",
        "    print(\"a_number =\", a_number)\n",
        "    print(\"a_list =\", a_list)\n",
        "\n",
        "# Outside the function\n",
        "num = 5\n",
        "lst = [1, 2, 3]\n",
        "\n",
        "print(\"Before function call:\")\n",
        "print(\"num =\", num)\n",
        "print(\"lst =\", lst)\n",
        "\n",
        "modify_arguments(num, lst)\n",
        "\n",
        "print(\"After function call:\")\n",
        "print(\"num =\", num)   # Unchanged\n",
        "print(\"lst =\", lst)   # Changed\n"
      ],
      "metadata": {
        "colab": {
          "base_uri": "https://localhost:8080/"
        },
        "id": "Jt_COhnzqF2q",
        "outputId": "3f9a3e0f-84ef-4209-d8aa-0d26734e0485"
      },
      "execution_count": 11,
      "outputs": [
        {
          "output_type": "stream",
          "name": "stdout",
          "text": [
            "Before function call:\n",
            "num = 5\n",
            "lst = [1, 2, 3]\n",
            "Inside function before modification:\n",
            "a_number = 5\n",
            "a_list = [1, 2, 3]\n",
            "Inside function after modification:\n",
            "a_number = 15\n",
            "a_list = [1, 2, 3, 100]\n",
            "After function call:\n",
            "num = 5\n",
            "lst = [1, 2, 3, 100]\n"
          ]
        }
      ]
    },
    {
      "cell_type": "markdown",
      "source": [
        "Q7 .Write a program that performs basic arithmetic operations on two user-input numbers."
      ],
      "metadata": {
        "id": "FhhnF5EIqTVX"
      }
    },
    {
      "cell_type": "code",
      "source": [
        "# Get input from the user\n",
        "num1 = float(input(\"Enter the first number: \"))\n",
        "num2 = float(input(\"Enter the second number: \"))\n",
        "\n",
        "# Perform arithmetic operations\n",
        "print(\"\\nResults:\")\n",
        "print(f\"Addition: {num1} + {num2} = {num1 + num2}\")\n",
        "print(f\"Subtraction: {num1} - {num2} = {num1 - num2}\")\n",
        "print(f\"Multiplication: {num1} * {num2} = {num1 * num2}\")\n",
        "\n",
        "# Handle division carefully to avoid division by zero\n",
        "if num2 != 0:\n",
        "    print(f\"Division: {num1} / {num2} = {num1 / num2}\")\n",
        "else:\n",
        "    print(\"Division: Cannot divide by zero.\")"
      ],
      "metadata": {
        "colab": {
          "base_uri": "https://localhost:8080/"
        },
        "id": "hr5Cynjgqge-",
        "outputId": "9cb1520d-d4aa-4ede-dd4f-e14f8de4ff67"
      },
      "execution_count": 12,
      "outputs": [
        {
          "output_type": "stream",
          "name": "stdout",
          "text": [
            "Enter the first number: 1\n",
            "Enter the second number: 1\n",
            "\n",
            "Results:\n",
            "Addition: 1.0 + 1.0 = 2.0\n",
            "Subtraction: 1.0 - 1.0 = 0.0\n",
            "Multiplication: 1.0 * 1.0 = 1.0\n",
            "Division: 1.0 / 1.0 = 1.0\n"
          ]
        }
      ]
    },
    {
      "cell_type": "markdown",
      "source": [
        "Q8. Write a program to demonstrate the use of logical operators."
      ],
      "metadata": {
        "id": "thRuW22BtIfM"
      }
    },
    {
      "cell_type": "code",
      "source": [
        "# Define some variables\n",
        "a = True\n",
        "b = False\n",
        "\n",
        "print(\"Logical Operator Demonstration\\n\")\n",
        "\n",
        "# AND operator\n",
        "print(f\"a and b = {a and b}\")  # True only if both are True\n",
        "\n",
        "# OR operator\n",
        "print(f\"a or b = {a or b}\")    # True if at least one is True\n",
        "\n",
        "# NOT operator\n",
        "print(f\"not a = {not a}\")      # Inverts the value of a\n",
        "print(f\"not b = {not b}\")      # Inverts the value of b\n",
        "\n",
        "# Using logical operators in a condition\n",
        "x = 10\n",
        "y = 5\n",
        "\n",
        "print(\"\\nConditional Logic Example:\")\n",
        "if x > 0 and y > 0:\n",
        "    print(\"Both x and y are positive numbers.\")\n",
        "\n",
        "if x > 0 or y < 0:\n",
        "    print(\"At least one of x or y meets the condition.\")\n",
        "\n",
        "if not (x < 0):\n",
        "    print(\"x is not a negative number.\")"
      ],
      "metadata": {
        "colab": {
          "base_uri": "https://localhost:8080/"
        },
        "id": "ULUhml4wtTZA",
        "outputId": "211884e5-5d13-4189-dc42-14baf22b3603"
      },
      "execution_count": 13,
      "outputs": [
        {
          "output_type": "stream",
          "name": "stdout",
          "text": [
            "Logical Operator Demonstration\n",
            "\n",
            "a and b = False\n",
            "a or b = True\n",
            "not a = False\n",
            "not b = True\n",
            "\n",
            "Conditional Logic Example:\n",
            "Both x and y are positive numbers.\n",
            "At least one of x or y meets the condition.\n",
            "x is not a negative number.\n"
          ]
        }
      ]
    },
    {
      "cell_type": "markdown",
      "source": [
        "Q9. Write a Python program to convert user input from string to integer, float, and boolean types"
      ],
      "metadata": {
        "id": "beOivHZDt0q-"
      }
    },
    {
      "cell_type": "code",
      "source": [
        "# Get user input as a string\n",
        "user_input = input(\"Enter a value: \")\n",
        "\n",
        "# Convert to integer\n",
        "try:\n",
        "    int_value = int(user_input)\n",
        "    print(f\"Integer conversion: {int_value}\")\n",
        "except ValueError:\n",
        "    print(\"Cannot convert to integer.\")\n",
        "\n",
        "# Convert to float\n",
        "try:\n",
        "    float_value = float(user_input)\n",
        "    print(f\"Float conversion: {float_value}\")\n",
        "except ValueError:\n",
        "    print(\"Cannot convert to float.\")\n",
        "\n",
        "# Convert to boolean\n",
        "# Note: Any non-empty string converts to True, empty string to False\n",
        "bool_value = bool(user_input)\n",
        "print(f\"Boolean conversion: {bool_value}\")"
      ],
      "metadata": {
        "colab": {
          "base_uri": "https://localhost:8080/"
        },
        "id": "YPC3AeBcuFeb",
        "outputId": "fc73b69e-6821-4133-fff2-cdb0742ac123"
      },
      "execution_count": 14,
      "outputs": [
        {
          "output_type": "stream",
          "name": "stdout",
          "text": [
            "Enter a value: 10\n",
            "Integer conversion: 10\n",
            "Float conversion: 10.0\n",
            "Boolean conversion: True\n"
          ]
        }
      ]
    },
    {
      "cell_type": "markdown",
      "source": [
        "Q10. Write code to demonstrate type casting with list elements."
      ],
      "metadata": {
        "id": "jqgjioOHucYq"
      }
    },
    {
      "cell_type": "code",
      "source": [
        "# Original list with mixed types as strings\n",
        "data = ['10', '20.5', '30', 'hello', '40']\n",
        "\n",
        "# Type casting: Convert string numbers to integers\n",
        "int_list = []\n",
        "for item in data:\n",
        "    try:\n",
        "        int_list.append(int(float(item)))  # Handles both integers and floats in string form\n",
        "    except ValueError:\n",
        "        int_list.append(None)  # If conversion fails, append None\n",
        "\n",
        "print(\"Original list:\", data)\n",
        "print(\"Converted to integers:\", int_list)\n",
        "\n",
        "# Type casting: Convert all elements to strings\n",
        "str_list = [str(item) for item in int_list]\n",
        "print(\"Converted to strings:\", str_list)\n",
        "\n",
        "# Type casting: Convert integers to floats\n",
        "float_list = [float(item) if item is not None else None for item in int_list]\n",
        "print(\"Converted to floats:\", float_list)"
      ],
      "metadata": {
        "colab": {
          "base_uri": "https://localhost:8080/"
        },
        "id": "P0GbInh-vBET",
        "outputId": "da6b2b8e-6750-470c-cd7a-bb6b51548a22"
      },
      "execution_count": 15,
      "outputs": [
        {
          "output_type": "stream",
          "name": "stdout",
          "text": [
            "Original list: ['10', '20.5', '30', 'hello', '40']\n",
            "Converted to integers: [10, 20, 30, None, 40]\n",
            "Converted to strings: ['10', '20', '30', 'None', '40']\n",
            "Converted to floats: [10.0, 20.0, 30.0, None, 40.0]\n"
          ]
        }
      ]
    },
    {
      "cell_type": "markdown",
      "source": [
        "Q11. Write a program that checks if a number is positive, negative, or zero.\n",
        "\n"
      ],
      "metadata": {
        "id": "Icr8VqQ88k1z"
      }
    },
    {
      "cell_type": "code",
      "source": [
        "# Program to check if a number is positive, negative, or zero\n",
        "\n",
        "# Input from the user\n",
        "num = float(input(\"Enter a number: \"))\n",
        "\n",
        "# Check the condition\n",
        "if num > 0:\n",
        "    print(\"The number is positive.\")\n",
        "elif num < 0:\n",
        "    print(\"The number is negative.\")\n",
        "else:\n",
        "    print(\"The number is zero.\")\n"
      ],
      "metadata": {
        "colab": {
          "base_uri": "https://localhost:8080/"
        },
        "id": "869bziUp8q1F",
        "outputId": "37f551a0-e0b2-4521-c489-5abb03ca7041"
      },
      "execution_count": 16,
      "outputs": [
        {
          "output_type": "stream",
          "name": "stdout",
          "text": [
            "Enter a number: -1\n",
            "The number is negative.\n"
          ]
        }
      ]
    },
    {
      "cell_type": "markdown",
      "source": [
        "Q12.  Write a for loop to print numbers from 1 to 10."
      ],
      "metadata": {
        "id": "ik73Ab6sD6tR"
      }
    },
    {
      "cell_type": "code",
      "source": [
        "# For loop to print numbers from 1 to 10\n",
        "for i in range(1, 11):\n",
        "    print(i)\n"
      ],
      "metadata": {
        "colab": {
          "base_uri": "https://localhost:8080/"
        },
        "id": "xc5rk5fvEQhO",
        "outputId": "881d2386-f865-4721-954d-ecfa5c191d26"
      },
      "execution_count": 17,
      "outputs": [
        {
          "output_type": "stream",
          "name": "stdout",
          "text": [
            "1\n",
            "2\n",
            "3\n",
            "4\n",
            "5\n",
            "6\n",
            "7\n",
            "8\n",
            "9\n",
            "10\n"
          ]
        }
      ]
    },
    {
      "cell_type": "markdown",
      "source": [
        "Q13. Write a Python program to find the sum of all even numbers between 1 and 50."
      ],
      "metadata": {
        "id": "yKWTH8-2EZHr"
      }
    },
    {
      "cell_type": "code",
      "source": [
        "# Program to find the sum of all even numbers between 1 and 50\n",
        "\n",
        "# Initialize sum\n",
        "even_sum = 0\n",
        "\n",
        "# Loop through numbers from 1 to 50\n",
        "for num in range(1, 51):\n",
        "    if num % 2 == 0:\n",
        "        even_sum += num\n",
        "\n",
        "# Display the result\n",
        "print(\"Sum of all even numbers between 1 and 50 is:\", even_sum)\n"
      ],
      "metadata": {
        "colab": {
          "base_uri": "https://localhost:8080/"
        },
        "id": "jzn7_I_-FxG4",
        "outputId": "9dbf4140-ea56-44b5-cb66-02a5209ada17"
      },
      "execution_count": 18,
      "outputs": [
        {
          "output_type": "stream",
          "name": "stdout",
          "text": [
            "Sum of all even numbers between 1 and 50 is: 650\n"
          ]
        }
      ]
    },
    {
      "cell_type": "markdown",
      "source": [
        "Q14. Write a program to reverse a string using a while loop."
      ],
      "metadata": {
        "id": "5v9FkHldF-xP"
      }
    },
    {
      "cell_type": "code",
      "source": [
        "# Program to reverse a string using a while loop\n",
        "\n",
        "# Input from the user\n",
        "original = input(\"Enter a string: \")\n",
        "\n",
        "# Initialize variables\n",
        "reversed_str = \"\"\n",
        "index = len(original) - 1\n",
        "\n",
        "# Loop backwards through the string\n",
        "while index >= 0:\n",
        "    reversed_str += original[index]\n",
        "    index -= 1\n",
        "\n",
        "# Display the reversed string\n",
        "print(\"Reversed string:\", reversed_str)\n"
      ],
      "metadata": {
        "colab": {
          "base_uri": "https://localhost:8080/"
        },
        "id": "biho7OiYGISx",
        "outputId": "2749f7c5-fd02-4dfa-bf4c-0380a0aae324"
      },
      "execution_count": 19,
      "outputs": [
        {
          "output_type": "stream",
          "name": "stdout",
          "text": [
            "Enter a string: Hello PW center\n",
            "Reversed string: retnec WP olleH\n"
          ]
        }
      ]
    },
    {
      "cell_type": "markdown",
      "source": [
        "Q15. Write a Python program to calculate the factorial of a number provided by the user using a while loop."
      ],
      "metadata": {
        "id": "mTRHRNXgGXhA"
      }
    },
    {
      "cell_type": "code",
      "source": [
        "# Program to calculate factorial using a while loop\n",
        "\n",
        "# Get input from the user\n",
        "num = int(input(\"Enter a non-negative integer: \"))\n",
        "\n",
        "# Initialize variables\n",
        "factorial = 1\n",
        "i = num\n",
        "\n",
        "# Check for valid input\n",
        "if num < 0:\n",
        "    print(\"Factorial is not defined for negative numbers.\")\n",
        "else:\n",
        "    while i > 1:\n",
        "        factorial *= i\n",
        "        i -= 1\n",
        "    print(f\"The factorial of {num} is: {factorial}\")\n"
      ],
      "metadata": {
        "colab": {
          "base_uri": "https://localhost:8080/"
        },
        "id": "tKCELF6kGdjr",
        "outputId": "a9448789-ee54-49a9-aa54-7064e25db271"
      },
      "execution_count": 25,
      "outputs": [
        {
          "output_type": "stream",
          "name": "stdout",
          "text": [
            "Enter a non-negative integer: 4\n",
            "The factorial of 4 is: 24\n"
          ]
        }
      ]
    }
  ]
}